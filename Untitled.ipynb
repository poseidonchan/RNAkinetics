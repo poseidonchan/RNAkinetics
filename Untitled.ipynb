{
 "cells": [
  {
   "cell_type": "code",
   "execution_count": null,
   "id": "318a21f1-e39d-4c53-8890-517b80a02743",
   "metadata": {},
   "outputs": [
    {
     "name": "stdout",
     "output_type": "stream",
     "text": [
      "Intel MKL WARNING: Support of Intel(R) Streaming SIMD Extensions 4.2 (Intel(R) SSE4.2) enabled only processors has been deprecated. Intel oneAPI Math Kernel Library 2025.0 will require Intel(R) Advanced Vector Extensions (Intel(R) AVX) instructions.\n",
      "Intel MKL WARNING: Support of Intel(R) Streaming SIMD Extensions 4.2 (Intel(R) SSE4.2) enabled only processors has been deprecated. Intel oneAPI Math Kernel Library 2025.0 will require Intel(R) Advanced Vector Extensions (Intel(R) AVX) instructions.\n"
     ]
    }
   ],
   "source": [
    "import scanpy as sc\n",
    "import numpy as np\n",
    "import scvelo as scv\n",
    "import cellrank as cr\n",
    "from cellrank.tl.kernels import CytoTRACEKernel\n",
    "from sckinetics import coarse_grained_kinetics, high_resolution_kinetics\n",
    "\n",
    "adata = scv.datasets.gastrulation_erythroid()\n",
    "n_neighbors = 2*int(np.sqrt(adata.shape[0]))\n",
    "\n",
    "scv.pp.filter_and_normalize(adata, n_top_genes=None)\n",
    "scv.pp.moments(adata,  n_neighbors=n_neighbors)\n",
    "ctk = CytoTRACEKernel(adata)\n",
    "scv.pl.scatter(\n",
    "    adata,\n",
    "    c=[\"ct_pseudotime\", \"celltype\"],\n",
    "    legend_loc=\"right\",\n",
    "    color_map=\"gnuplot2\",\n",
    ")\n",
    "\n",
    "pt = adata.obs['ct_pseudotime']\n",
    "adata = scv.datasets.gastrulation_erythroid()\n",
    "murk_genes = adata.var.index[adata.var['MURK_gene'] == True]\n",
    "scv.pp.filter_and_normalize(adata, min_shared_counts=20, n_top_genes=2000, retain_genes=murk_genes)\n",
    "\n",
    "scv.pp.moments(adata, n_neighbors=n_neighbors)\n",
    "adata.obs['ct_pseudotime'] = pt"
   ]
  },
  {
   "cell_type": "code",
   "execution_count": null,
   "id": "a1df9e52-7f0c-4627-a849-3ce57de92b06",
   "metadata": {},
   "outputs": [],
   "source": [
    "adata = high_resolution_kinetics(adata, pt_key='ct_pseudotime', num_iter=200, n_jobs=-1)\n",
    "adata.write('gastrulation_hires.h5ad')"
   ]
  }
 ],
 "metadata": {
  "kernelspec": {
   "display_name": "Python 3 (ipykernel)",
   "language": "python",
   "name": "python3"
  },
  "language_info": {
   "codemirror_mode": {
    "name": "ipython",
    "version": 3
   },
   "file_extension": ".py",
   "mimetype": "text/x-python",
   "name": "python",
   "nbconvert_exporter": "python",
   "pygments_lexer": "ipython3",
   "version": "3.9.18"
  }
 },
 "nbformat": 4,
 "nbformat_minor": 5
}
